{
  "nbformat": 4,
  "nbformat_minor": 0,
  "metadata": {
    "colab": {
      "name": "HYDE_CA04.ipynb",
      "provenance": []
    },
    "kernelspec": {
      "name": "python3",
      "display_name": "Python 3"
    }
  },
  "cells": [
    {
      "cell_type": "markdown",
      "metadata": {
        "id": "s-6sX4PZPPx4",
        "colab_type": "text"
      },
      "source": [
        "# CA04 Ensemble Methods\n",
        "## Elizabeth Hyde\n",
        "\n",
        "**Data Source:** The dataset is from the Census Bureau and includes salaries and seven other demographic variables. The continuous data columns have been transformed into discrete categories. "
      ]
    },
    {
      "cell_type": "code",
      "metadata": {
        "id": "I_kS7u_2PkyE",
        "colab_type": "code",
        "colab": {}
      },
      "source": [
        "import pandas as pd\n",
        "import numpy as np\n",
        "import matplotlib.pyplot as plt\n",
        "from sklearn.tree import DecisionTreeClassifier"
      ],
      "execution_count": 0,
      "outputs": []
    },
    {
      "cell_type": "code",
      "metadata": {
        "id": "zCfuxa7OP_HO",
        "colab_type": "code",
        "colab": {}
      },
      "source": [
        "cs = pd.read_csv('https://github.com/ArinB/MSBA-CA-03-Decision-Trees/blob/master/census_data.csv?raw=true')"
      ],
      "execution_count": 0,
      "outputs": []
    },
    {
      "cell_type": "markdown",
      "metadata": {
        "id": "sINsGIm0RjVF",
        "colab_type": "text"
      },
      "source": [
        "**Split Data**"
      ]
    },
    {
      "cell_type": "code",
      "metadata": {
        "id": "24UWvXphRlyA",
        "colab_type": "code",
        "colab": {}
      },
      "source": [
        "#split training and testing data\n",
        "x_train = pd.get_dummies(cs[cs['flag']=='train'][['occupation_bin','msr_bin','capital_gl_bin','race_sex_bin','education_bin','age_bin','hours_per_week_bin']])\n",
        "y_train = cs[cs['flag']=='train']['y']\n",
        "x_test = pd.get_dummies(cs[cs['flag']=='test'][['occupation_bin','msr_bin','capital_gl_bin','race_sex_bin','education_bin','age_bin','hours_per_week_bin']])\n",
        "y_test = cs[cs['flag']=='test']['y']"
      ],
      "execution_count": 0,
      "outputs": []
    },
    {
      "cell_type": "markdown",
      "metadata": {
        "id": "DRaHbFDAWSix",
        "colab_type": "text"
      },
      "source": [
        "**Find Optimal Hyperparameter Value**"
      ]
    },
    {
      "cell_type": "code",
      "metadata": {
        "id": "sAiTGlwWHHxX",
        "colab_type": "code",
        "colab": {}
      },
      "source": [
        "from sklearn.metrics import accuracy_score"
      ],
      "execution_count": 0,
      "outputs": []
    },
    {
      "cell_type": "code",
      "metadata": {
        "id": "ht5w2es5SkLj",
        "colab_type": "code",
        "outputId": "23b9e1ef-554e-44f9-e906-8a0955a3485c",
        "colab": {
          "base_uri": "https://localhost:8080/",
          "height": 282
        }
      },
      "source": [
        "# creates a list of accuracy scores for models with different n_estimator options and plots these values\n",
        "results = []\n",
        "max_depth_options = [2,4,6,8,10,12,14,16,18,20]\n",
        "for trees in max_depth_options:\n",
        "  model = DecisionTreeClassifier(max_depth = trees, random_state=101)\n",
        "  model.fit(x_train, y_train)\n",
        "  y_pred = model.predict(x_test)\n",
        "  accuracy = accuracy_score(y_test, y_pred)\n",
        "  results.append(accuracy)\n",
        "\n",
        "plt.figure(figsize=(8,4))\n",
        "pd.Series(results, max_depth_options).plot(color = \"darkred\", marker=\"o\")"
      ],
      "execution_count": 0,
      "outputs": [
        {
          "output_type": "execute_result",
          "data": {
            "text/plain": [
              "<matplotlib.axes._subplots.AxesSubplot at 0x7f4311f8c940>"
            ]
          },
          "metadata": {
            "tags": []
          },
          "execution_count": 9
        },
        {
          "output_type": "display_data",
          "data": {
            "image/png": "[encoded data removed]",
            "text/plain": [
              "<Figure size 576x288 with 1 Axes>"
            ]
          },
          "metadata": {
            "tags": []
          }
        }
      ]
    },
    {
      "cell_type": "markdown",
      "metadata": {
        "id": "Ex5KT5dJY_9e",
        "colab_type": "text"
      },
      "source": [
        "**Build a Random Forest**"
      ]
    },
    {
      "cell_type": "code",
      "metadata": {
        "id": "0ppaVTzDZKMG",
        "colab_type": "code",
        "colab": {}
      },
      "source": [
        "from sklearn.ensemble import RandomForestClassifier"
      ],
      "execution_count": 0,
      "outputs": []
    },
    {
      "cell_type": "code",
      "metadata": {
        "id": "gUToDr3NlWg5",
        "colab_type": "code",
        "outputId": "a6859e10-6de0-490d-a3b1-60014de0fc79",
        "colab": {
          "base_uri": "https://localhost:8080/",
          "height": 282
        }
      },
      "source": [
        "# creates a list of accuracy scores for models with different n_estimator options and plots these values\n",
        "results_rf1 = []\n",
        "n_estimator_options = [50,100,150,200,250,300,350,400,450,500]\n",
        "for trees2 in n_estimator_options:\n",
        "  model2 = RandomForestClassifier(n_estimators= trees2, random_state=101)\n",
        "  model2.fit(x_train, y_train)\n",
        "  y_pred2 = model2.predict(x_test)\n",
        "  #accuracy2 = np.mean(y_test==y_pred2)\n",
        "  accuracy2 = accuracy_score(y_test, y_pred2)\n",
        "  results_rf1.append(accuracy2)\n",
        "\n",
        "plt.figure(figsize=(8,4))\n",
        "pd.Series(results_rf1, n_estimator_options).plot(color='lightblue', marker='o')"
      ],
      "execution_count": 0,
      "outputs": [
        {
          "output_type": "execute_result",
          "data": {
            "text/plain": [
              "<matplotlib.axes._subplots.AxesSubplot at 0x7f4311af56d8>"
            ]
          },
          "metadata": {
            "tags": []
          },
          "execution_count": 13
        },
        {
          "output_type": "display_data",
          "data": {
            "image/png": "[encoded data removed]",
            "text/plain": [
              "<Figure size 576x288 with 1 Axes>"
            ]
          },
          "metadata": {
            "tags": []
          }
        }
      ]
    },
    {
      "cell_type": "markdown",
      "metadata": {
        "id": "IotViHUxuUx0",
        "colab_type": "text"
      },
      "source": [
        "Of the given trees illustrated by the plot above, the one with 500 estimators performs best overall with a .8394 accuracy score. The worst performing tree has 250 estimators and .8382 accuracy score. However, .0012 is a small difference in accuracy. "
      ]
    },
    {
      "cell_type": "markdown",
      "metadata": {
        "id": "SwHh1M6k4ZVo",
        "colab_type": "text"
      },
      "source": [
        "**AdaBoost**"
      ]
    },
    {
      "cell_type": "code",
      "metadata": {
        "id": "_6J-48uq8tQJ",
        "colab_type": "code",
        "colab": {}
      },
      "source": [
        "from sklearn.ensemble import AdaBoostClassifier"
      ],
      "execution_count": 0,
      "outputs": []
    },
    {
      "cell_type": "code",
      "metadata": {
        "id": "H1WfUuxTwGyC",
        "colab_type": "code",
        "outputId": "1f0bd162-90c5-4243-8b0e-50e5ce1ad53a",
        "colab": {
          "base_uri": "https://localhost:8080/",
          "height": 282
        }
      },
      "source": [
        "# creates a list of accuracy scores for models with different n_estimator options and plots these values\n",
        "results_ada = [] \n",
        "n_estimator_options_ada = [50,100,150,200,250,300,350,400,450,500]\n",
        "for trees3 in n_estimator_options_ada:\n",
        "  model3 = AdaBoostClassifier(n_estimators= trees3, random_state=101)\n",
        "  model3.fit(x_train, y_train)\n",
        "  y_pred3 = model3.predict(x_test)\n",
        "  # accuracy3 = np.mean(y_test==y_pred3)\n",
        "  accuracy3 = accuracy_score(y_test, y_pred3)\n",
        "  results_ada.append(accuracy3)\n",
        "\n",
        "plt.figure(figsize=(8,4))\n",
        "pd.Series(results_ada, n_estimator_options_ada).plot(color='magenta', marker='o')"
      ],
      "execution_count": 0,
      "outputs": [
        {
          "output_type": "execute_result",
          "data": {
            "text/plain": [
              "<matplotlib.axes._subplots.AxesSubplot at 0x7f4311a26b38>"
            ]
          },
          "metadata": {
            "tags": []
          },
          "execution_count": 15
        },
        {
          "output_type": "display_data",
          "data": {
            "image/png": "[encoded data removed]",
            "text/plain": [
              "<Figure size 576x288 with 1 Axes>"
            ]
          },
          "metadata": {
            "tags": []
          }
        }
      ]
    },
    {
      "cell_type": "markdown",
      "metadata": {
        "id": "5yAh4umL4eT9",
        "colab_type": "text"
      },
      "source": [
        "**Gradient Boost**"
      ]
    },
    {
      "cell_type": "code",
      "metadata": {
        "id": "LP0HLuVp_wgD",
        "colab_type": "code",
        "colab": {}
      },
      "source": [
        "from sklearn.ensemble import GradientBoostingClassifier"
      ],
      "execution_count": 0,
      "outputs": []
    },
    {
      "cell_type": "code",
      "metadata": {
        "id": "vmokcMl17Hdo",
        "colab_type": "code",
        "outputId": "37ffea10-b3d7-4fb5-a260-6772331d9242",
        "colab": {
          "base_uri": "https://localhost:8080/",
          "height": 282
        }
      },
      "source": [
        "# creates a list of accuracy scores for models with different n_estimator options and plots these values\n",
        "results_gb = [] \n",
        "n_estimator_options_gb = [50,100,150,200,250,300,350,400,450,500]\n",
        "for trees4 in n_estimator_options_gb:\n",
        "  model4 = GradientBoostingClassifier(n_estimators= trees4, random_state=101)\n",
        "  model4.fit(x_train, y_train)\n",
        "  y_pred4 = model4.predict(x_test)\n",
        "  #accuracy4 = np.mean(y_test==y_pred4)\n",
        "  accuracy4 = accuracy_score(y_test, y_pred4)\n",
        "  results_gb.append(accuracy4)\n",
        "\n",
        "plt.figure(figsize=(8,4))\n",
        "pd.Series(results_gb, n_estimator_options_gb).plot(color='purple', marker='o')"
      ],
      "execution_count": 0,
      "outputs": [
        {
          "output_type": "execute_result",
          "data": {
            "text/plain": [
              "<matplotlib.axes._subplots.AxesSubplot at 0x7f4311948400>"
            ]
          },
          "metadata": {
            "tags": []
          },
          "execution_count": 18
        },
        {
          "output_type": "display_data",
          "data": {
            "image/png": "[encoded data removed]",
            "text/plain": [
              "<Figure size 576x288 with 1 Axes>"
            ]
          },
          "metadata": {
            "tags": []
          }
        }
      ]
    },
    {
      "cell_type": "markdown",
      "metadata": {
        "id": "mDWYNbDl7H5J",
        "colab_type": "text"
      },
      "source": [
        "**XGB Boost**"
      ]
    },
    {
      "cell_type": "code",
      "metadata": {
        "id": "T-IMtryQEIYc",
        "colab_type": "code",
        "colab": {}
      },
      "source": [
        "import xgboost as xgb\n",
        "import re"
      ],
      "execution_count": 0,
      "outputs": []
    },
    {
      "cell_type": "code",
      "metadata": {
        "id": "eOAmOxFfK0nL",
        "colab_type": "code",
        "colab": {}
      },
      "source": [
        "# have to take [,] or > out of column values \n",
        "regex = re.compile(r\"\\[|\\]|<\", re.IGNORECASE)\n",
        "x_train.columns = [regex.sub(\"_\", col) if any(x in str(col) for x in set(('[', ']', '<'))) else col for col in x_train.columns.values]\n",
        "x_test.columns = [regex.sub(\"_\", col) if any(x in str(col) for x in set(('[', ']', '<'))) else col for col in x_test.columns.values]"
      ],
      "execution_count": 0,
      "outputs": []
    },
    {
      "cell_type": "code",
      "metadata": {
        "id": "OsK4mOkj7K49",
        "colab_type": "code",
        "outputId": "7dd251de-5110-41c7-9ef4-3d866823fda9",
        "colab": {
          "base_uri": "https://localhost:8080/",
          "height": 282
        }
      },
      "source": [
        "# creates a list of accuracy scores for models with different n_estimator options and plots these values\n",
        "results_xgb = [] \n",
        "n_estimator_options_xgb = [50,100,150,200,250,300,350,400,450,500]\n",
        "for trees5 in n_estimator_options_xgb:\n",
        "  model5 = xgb.XGBClassifier(n_estimators=trees5, random_state=101)\n",
        "  model5.fit(x_train, y_train)\n",
        "  y_pred5 = model5.predict(x_test)\n",
        "  #accuracy5 = np.mean(y_test==y_pred5)\n",
        "  accuracy5 = accuracy_score(y_test, y_pred5)\n",
        "  results_xgb.append(accuracy5)\n",
        "\n",
        "plt.figure(figsize=(8,4))\n",
        "pd.Series(results_xgb, n_estimator_options_xgb).plot(color='green', marker='o')"
      ],
      "execution_count": 0,
      "outputs": [
        {
          "output_type": "execute_result",
          "data": {
            "text/plain": [
              "<matplotlib.axes._subplots.AxesSubplot at 0x7f4311739f98>"
            ]
          },
          "metadata": {
            "tags": []
          },
          "execution_count": 21
        },
        {
          "output_type": "display_data",
          "data": {
            "image/png": "[encoded data removed]",
            "text/plain": [
              "<Figure size 576x288 with 1 Axes>"
            ]
          },
          "metadata": {
            "tags": []
          }
        }
      ]
    },
    {
      "cell_type": "markdown",
      "metadata": {
        "id": "EPg60VOyW4fh",
        "colab_type": "text"
      },
      "source": [
        "**Compare Performance**\n",
        "\n",
        "Assumption: Use number of estimators from optimal model of each type. "
      ]
    },
    {
      "cell_type": "code",
      "metadata": {
        "id": "MHGgsMRINRgG",
        "colab_type": "code",
        "colab": {}
      },
      "source": [
        "from sklearn.metrics import roc_auc_score"
      ],
      "execution_count": 0,
      "outputs": []
    },
    {
      "cell_type": "code",
      "metadata": {
        "id": "hzljvcuhW7pn",
        "colab_type": "code",
        "colab": {}
      },
      "source": [
        "output = pd.read_csv('classifier_output.csv')"
      ],
      "execution_count": 0,
      "outputs": []
    },
    {
      "cell_type": "code",
      "metadata": {
        "id": "ax_tRAQ8XpNC",
        "colab_type": "code",
        "outputId": "3e025ac0-e5bc-4ebe-dd94-c030d6f26ff5",
        "colab": {
          "base_uri": "https://localhost:8080/",
          "height": 112
        }
      },
      "source": [
        "output.head()"
      ],
      "execution_count": 12,
      "outputs": [
        {
          "output_type": "execute_result",
          "data": {
            "text/html": [
              "<div>\n",
              "<style scoped>\n",
              "    .dataframe tbody tr th:only-of-type {\n",
              "        vertical-align: middle;\n",
              "    }\n",
              "\n",
              "    .dataframe tbody tr th {\n",
              "        vertical-align: top;\n",
              "    }\n",
              "\n",
              "    .dataframe thead th {\n",
              "        text-align: right;\n",
              "    }\n",
              "</style>\n",
              "<table border=\"1\" class=\"dataframe\">\n",
              "  <thead>\n",
              "    <tr style=\"text-align: right;\">\n",
              "      <th></th>\n",
              "      <th>Unnamed: 0</th>\n",
              "      <th>Random Forest</th>\n",
              "      <th>AdaBoost</th>\n",
              "      <th>Gradient Boost</th>\n",
              "      <th>XGB</th>\n",
              "    </tr>\n",
              "  </thead>\n",
              "  <tbody>\n",
              "    <tr>\n",
              "      <th>0</th>\n",
              "      <td>Accuracy</td>\n",
              "      <td>NaN</td>\n",
              "      <td>NaN</td>\n",
              "      <td>NaN</td>\n",
              "      <td>NaN</td>\n",
              "    </tr>\n",
              "    <tr>\n",
              "      <th>1</th>\n",
              "      <td>AUC</td>\n",
              "      <td>NaN</td>\n",
              "      <td>NaN</td>\n",
              "      <td>NaN</td>\n",
              "      <td>NaN</td>\n",
              "    </tr>\n",
              "  </tbody>\n",
              "</table>\n",
              "</div>"
            ],
            "text/plain": [
              "  Unnamed: 0  Random Forest  AdaBoost  Gradient Boost  XGB\n",
              "0   Accuracy            NaN       NaN             NaN  NaN\n",
              "1        AUC            NaN       NaN             NaN  NaN"
            ]
          },
          "metadata": {
            "tags": []
          },
          "execution_count": 12
        }
      ]
    },
    {
      "cell_type": "code",
      "metadata": {
        "id": "UceRWNTSNU1H",
        "colab_type": "code",
        "colab": {}
      },
      "source": [
        "# loop through index to fill values for optimal models of each type - ASSUMPTION: choose optimal n estimator value for each to find best model\n",
        "\n",
        "for row in output.index:\n",
        "  # RANDOM FOREST\n",
        "  model6 = RandomForestClassifier(n_estimators= 500, random_state=101)\n",
        "  model6.fit(x_train, y_train)\n",
        "  y_pred6 = model6.predict(x_test)\n",
        "  accuracy6 = accuracy_score(y_test, y_pred6)\n",
        "  auc6 = roc_auc_score(y_test, y_pred6)\n",
        "\n",
        "  output.loc[0,'Random Forest'] = accuracy6\n",
        "  output.loc[1,'Random Forest'] = auc6\n",
        "\n",
        "  # ADABOOST\n",
        "  model7 = AdaBoostClassifier(n_estimators= 100, random_state=101)\n",
        "  model7.fit(x_train, y_train)\n",
        "  y_pred7 = model7.predict(x_test)\n",
        "  accuracy7 = accuracy_score(y_test, y_pred7)\n",
        "  auc7 = roc_auc_score(y_test, y_pred7)\n",
        "\n",
        "  output.loc[0, 'AdaBoost'] = accuracy7\n",
        "  output.loc[1, 'AdaBoost'] = auc7\n",
        "\n",
        "  # GRADIENT BOOST\n",
        "  model8 = GradientBoostingClassifier(n_estimators= 50, random_state=101)\n",
        "  model8.fit(x_train, y_train)\n",
        "  y_pred8 = model8.predict(x_test)\n",
        "  accuracy8 = accuracy_score(y_test, y_pred8)\n",
        "  auc8 = roc_auc_score(y_test, y_pred8)\n",
        "\n",
        "  output.loc[0, 'Gradient Boost'] = accuracy8\n",
        "  output.loc[1, 'Gradient Boost'] = auc8\n",
        "\n",
        "  #XGB\n",
        "  model9 = xgb.XGBClassifier(n_estimators= 100, random_state=101)\n",
        "  model9.fit(x_train, y_train)\n",
        "  y_pred9 = model9.predict(x_test)\n",
        "  accuracy9 = accuracy_score(y_test, y_pred9)\n",
        "  auc9 = roc_auc_score(y_test, y_pred9)\n",
        "\n",
        "  output.loc[0, 'XGB'] = accuracy9\n",
        "  output.loc[1, 'XGB'] = auc9\n"
      ],
      "execution_count": 0,
      "outputs": []
    },
    {
      "cell_type": "code",
      "metadata": {
        "id": "nOVkt5sDSsHI",
        "colab_type": "code",
        "outputId": "84052331-9a9a-4208-b70e-efbf5320404a",
        "colab": {
          "base_uri": "https://localhost:8080/",
          "height": 112
        }
      },
      "source": [
        "output.head()"
      ],
      "execution_count": 17,
      "outputs": [
        {
          "output_type": "execute_result",
          "data": {
            "text/html": [
              "<div>\n",
              "<style scoped>\n",
              "    .dataframe tbody tr th:only-of-type {\n",
              "        vertical-align: middle;\n",
              "    }\n",
              "\n",
              "    .dataframe tbody tr th {\n",
              "        vertical-align: top;\n",
              "    }\n",
              "\n",
              "    .dataframe thead th {\n",
              "        text-align: right;\n",
              "    }\n",
              "</style>\n",
              "<table border=\"1\" class=\"dataframe\">\n",
              "  <thead>\n",
              "    <tr style=\"text-align: right;\">\n",
              "      <th></th>\n",
              "      <th>Unnamed: 0</th>\n",
              "      <th>Random Forest</th>\n",
              "      <th>AdaBoost</th>\n",
              "      <th>Gradient Boost</th>\n",
              "      <th>XGB</th>\n",
              "    </tr>\n",
              "  </thead>\n",
              "  <tbody>\n",
              "    <tr>\n",
              "      <th>0</th>\n",
              "      <td>Accuracy</td>\n",
              "      <td>0.839322</td>\n",
              "      <td>0.845157</td>\n",
              "      <td>0.847245</td>\n",
              "      <td>0.847122</td>\n",
              "    </tr>\n",
              "    <tr>\n",
              "      <th>1</th>\n",
              "      <td>AUC</td>\n",
              "      <td>0.746919</td>\n",
              "      <td>0.746518</td>\n",
              "      <td>0.746269</td>\n",
              "      <td>0.753821</td>\n",
              "    </tr>\n",
              "  </tbody>\n",
              "</table>\n",
              "</div>"
            ],
            "text/plain": [
              "  Unnamed: 0  Random Forest  AdaBoost  Gradient Boost       XGB\n",
              "0   Accuracy       0.839322  0.845157        0.847245  0.847122\n",
              "1        AUC       0.746919  0.746518        0.746269  0.753821"
            ]
          },
          "metadata": {
            "tags": []
          },
          "execution_count": 17
        }
      ]
    }
  ]
}